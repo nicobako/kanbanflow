{
 "cells": [
  {
   "cell_type": "markdown",
   "metadata": {},
   "source": [
    "# API Tokens\n",
    "\n",
    "Storing API tokens can be quite a pain,\n",
    "so `kanbanflow` offers a `TokenManager` class\n",
    "to help ease this.\n",
    "\n",
    "## Creating the `TokenManager`"
   ]
  },
  {
   "cell_type": "code",
   "execution_count": null,
   "metadata": {},
   "outputs": [],
   "source": [
    "import kanbanflow as kbf\n",
    "from pathlib import Path\n",
    "\n",
    "token_manager = kbf.TokenManager()"
   ]
  },
  {
   "cell_type": "markdown",
   "metadata": {},
   "source": [
    "This class is really simple. All it does is create a *json* file\n",
    "containing your tokens. This defaults to the following:"
   ]
  },
  {
   "cell_type": "code",
   "execution_count": null,
   "metadata": {},
   "outputs": [],
   "source": [
    "token_manager.token_file.relative_to(Path.home())"
   ]
  },
  {
   "cell_type": "markdown",
   "metadata": {},
   "source": [
    "But you can change this by providing a path in the constructor."
   ]
  },
  {
   "cell_type": "code",
   "execution_count": null,
   "metadata": {},
   "outputs": [],
   "source": [
    "token_manager = kbf.TokenManager(\"my-token-file.json\")\n",
    "\n",
    "token_manager.token_file"
   ]
  },
  {
   "cell_type": "code",
   "execution_count": null,
   "metadata": {},
   "outputs": [],
   "source": [
    "token_manager.token_file.unlink()"
   ]
  }
 ],
 "metadata": {
  "kernelspec": {
   "display_name": "kanbanflow-venv",
   "language": "python",
   "name": "kanbanflow-venv"
  },
  "language_info": {
   "codemirror_mode": {
    "name": "ipython",
    "version": 3
   },
   "file_extension": ".py",
   "mimetype": "text/x-python",
   "name": "python",
   "nbconvert_exporter": "python",
   "pygments_lexer": "ipython3",
   "version": "3.8.3"
  }
 },
 "nbformat": 4,
 "nbformat_minor": 4
}
