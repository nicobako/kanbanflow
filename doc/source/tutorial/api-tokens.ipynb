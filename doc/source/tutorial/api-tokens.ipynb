{
 "cells": [
  {
   "cell_type": "markdown",
   "metadata": {},
   "source": [
    "# API Tokens\n",
    "\n",
    "Storing API tokens can be quite a pain,\n",
    "so `kanbanflow` offers a few convenience\n",
    "functions for making this a little easier."
   ]
  },
  {
   "cell_type": "code",
   "execution_count": null,
   "metadata": {},
   "outputs": [],
   "source": [
    "import kanbanflow as kbf"
   ]
  },
  {
   "cell_type": "markdown",
   "metadata": {},
   "source": [
    "## File Containing Tokens\n",
    "\n",
    "All tokens are stored in a file. By default this is in the `~/.kanbanflow/tokens.json`."
   ]
  },
  {
   "cell_type": "code",
   "execution_count": null,
   "metadata": {},
   "outputs": [],
   "source": [
    "from pathlib import Path\n",
    "\n",
    "kbf.token_file().relative_to(Path.home())"
   ]
  },
  {
   "cell_type": "markdown",
   "metadata": {},
   "source": [
    "This can be configured to any location you wish.\n",
    "The changes you make will apply to the current session."
   ]
  },
  {
   "cell_type": "code",
   "execution_count": null,
   "metadata": {},
   "outputs": [],
   "source": [
    "kbf.token_file(\"my-custom-token-file.json\")\n",
    "kbf.token_file()"
   ]
  },
  {
   "cell_type": "markdown",
   "metadata": {},
   "source": [
    "## Storing Tokens\n",
    "\n",
    "Each token is given a `name`."
   ]
  },
  {
   "cell_type": "code",
   "execution_count": null,
   "metadata": {},
   "outputs": [],
   "source": [
    "name = \"my-token-name\"\n",
    "token = \"my-super-top-secret-token\"\n",
    "\n",
    "kbf.token_store(name=name, token=token)"
   ]
  },
  {
   "cell_type": "markdown",
   "metadata": {},
   "source": [
    "## Retrieving Tokens\n",
    "\n",
    "Tokens can be retrieved by their `name`."
   ]
  },
  {
   "cell_type": "code",
   "execution_count": null,
   "metadata": {},
   "outputs": [],
   "source": [
    "kbf.token_retrieve(name=name)"
   ]
  },
  {
   "cell_type": "markdown",
   "metadata": {},
   "source": [
    "## Listing Tokens\n",
    "\n",
    "You can also get a list of all available tokens."
   ]
  },
  {
   "cell_type": "code",
   "execution_count": null,
   "metadata": {},
   "outputs": [],
   "source": [
    "kbf.token_list()"
   ]
  },
  {
   "cell_type": "code",
   "execution_count": null,
   "metadata": {},
   "outputs": [],
   "source": [
    "kbf.token_store(name=\"other-token\",token=\"some-random-letters\")\n",
    "kbf.token_list()"
   ]
  },
  {
   "cell_type": "markdown",
   "metadata": {},
   "source": [
    "## Deleting Tokens\n",
    "\n",
    "Tokens can be deleted by name."
   ]
  },
  {
   "cell_type": "code",
   "execution_count": null,
   "metadata": {},
   "outputs": [],
   "source": [
    "kbf.token_delete(name=name)\n",
    "\n",
    "try:\n",
    "    kbf.token_retrieve(name=name)\n",
    "except KeyError as exc:\n",
    "    print(\"error\", exc)"
   ]
  },
  {
   "cell_type": "markdown",
   "metadata": {},
   "source": [
    "## Cleaning up After Ourselves\n",
    "\n",
    "Since we used a custom token file,\n",
    "let's go ahead and delete it."
   ]
  },
  {
   "cell_type": "code",
   "execution_count": null,
   "metadata": {},
   "outputs": [],
   "source": [
    "kbf.token_file().unlink()"
   ]
  }
 ],
 "metadata": {
  "kernelspec": {
   "display_name": "kanbanflow-venv",
   "language": "python",
   "name": "kanbanflow-venv"
  },
  "language_info": {
   "codemirror_mode": {
    "name": "ipython",
    "version": 3
   },
   "file_extension": ".py",
   "mimetype": "text/x-python",
   "name": "python",
   "nbconvert_exporter": "python",
   "pygments_lexer": "ipython3",
   "version": "3.8.3"
  }
 },
 "nbformat": 4,
 "nbformat_minor": 4
}
