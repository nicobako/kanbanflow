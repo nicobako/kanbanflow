{
 "cells": [
  {
   "cell_type": "markdown",
   "metadata": {},
   "source": [
    "# Managing API Tokens\n",
    "\n",
    "Storing API tokens can be quite a pain,\n",
    "so `kanbanflow` offers a `TokenManager` class\n",
    "to help ease this.\n",
    "\n",
    "See `kanbanflow.TokenManager`\n",
    "\n",
    "<div class=\"alert alert-info\">\n",
    "\n",
    "Note: There is nothing really special about\n",
    "this class other than the convenience it offers.\n",
    "Tokens are stored in a *json* file, and there is no encryption.\n",
    "If you have a better way of storing tokens,\n",
    "such as through environment variables, etc.,\n",
    "feel free to do that.\n",
    "\n",
    "</div>"
   ]
  },
  {
   "cell_type": "markdown",
   "metadata": {},
   "source": [
    "## Creating the `TokenManager`"
   ]
  },
  {
   "cell_type": "code",
   "execution_count": 1,
   "metadata": {
    "execution": {
     "iopub.execute_input": "2020-12-19T21:40:46.314646Z",
     "iopub.status.busy": "2020-12-19T21:40:46.314006Z",
     "iopub.status.idle": "2020-12-19T21:40:46.400930Z",
     "shell.execute_reply": "2020-12-19T21:40:46.400050Z"
    }
   },
   "outputs": [],
   "source": [
    "import kanbanflow as kbf\n",
    "from pathlib import Path\n",
    "\n",
    "token_manager = kbf.TokenManager()"
   ]
  },
  {
   "cell_type": "markdown",
   "metadata": {},
   "source": [
    "The path to the token file defaults to `~/.kanbanflow/tokens.json`."
   ]
  },
  {
   "cell_type": "code",
   "execution_count": 2,
   "metadata": {
    "execution": {
     "iopub.execute_input": "2020-12-19T21:40:46.412528Z",
     "iopub.status.busy": "2020-12-19T21:40:46.411564Z",
     "iopub.status.idle": "2020-12-19T21:40:46.415669Z",
     "shell.execute_reply": "2020-12-19T21:40:46.415167Z"
    }
   },
   "outputs": [
    {
     "data": {
      "text/plain": [
       "PosixPath('.kanbanflow/tokens.json')"
      ]
     },
     "execution_count": 1,
     "metadata": {},
     "output_type": "execute_result"
    }
   ],
   "source": [
    "token_manager.token_file.relative_to(Path.home())"
   ]
  },
  {
   "cell_type": "markdown",
   "metadata": {},
   "source": [
    "However, you can change this by providing a path in the constructor."
   ]
  },
  {
   "cell_type": "code",
   "execution_count": 3,
   "metadata": {
    "execution": {
     "iopub.execute_input": "2020-12-19T21:40:46.420059Z",
     "iopub.status.busy": "2020-12-19T21:40:46.419067Z",
     "iopub.status.idle": "2020-12-19T21:40:46.422078Z",
     "shell.execute_reply": "2020-12-19T21:40:46.422519Z"
    }
   },
   "outputs": [
    {
     "data": {
      "text/plain": [
       "PosixPath('my-token-file.json')"
      ]
     },
     "execution_count": 1,
     "metadata": {},
     "output_type": "execute_result"
    }
   ],
   "source": [
    "token_manager = kbf.TokenManager(\"my-token-file.json\")\n",
    "\n",
    "token_manager.token_file"
   ]
  },
  {
   "cell_type": "markdown",
   "metadata": {},
   "source": [
    "This is useful if you want your own file in a specific location."
   ]
  },
  {
   "cell_type": "markdown",
   "metadata": {},
   "source": [
    "## Storing Tokens\n",
    "\n",
    "Tokens are stored in *name-token* pairs."
   ]
  },
  {
   "cell_type": "code",
   "execution_count": 4,
   "metadata": {
    "execution": {
     "iopub.execute_input": "2020-12-19T21:40:46.426743Z",
     "iopub.status.busy": "2020-12-19T21:40:46.425806Z",
     "iopub.status.idle": "2020-12-19T21:40:46.427766Z",
     "shell.execute_reply": "2020-12-19T21:40:46.428177Z"
    }
   },
   "outputs": [],
   "source": [
    "name = \"token-name\"\n",
    "token = \"the-actual-api-token\"\n",
    "\n",
    "token_manager.store(name=name, token=token)"
   ]
  },
  {
   "cell_type": "markdown",
   "metadata": {},
   "source": [
    "## Retrieving Tokens\n",
    "\n",
    "Tokens are retrieved by their name."
   ]
  },
  {
   "cell_type": "code",
   "execution_count": 5,
   "metadata": {
    "execution": {
     "iopub.execute_input": "2020-12-19T21:40:46.432550Z",
     "iopub.status.busy": "2020-12-19T21:40:46.432009Z",
     "iopub.status.idle": "2020-12-19T21:40:46.434537Z",
     "shell.execute_reply": "2020-12-19T21:40:46.434970Z"
    }
   },
   "outputs": [
    {
     "data": {
      "text/plain": [
       "'the-actual-api-token'"
      ]
     },
     "execution_count": 1,
     "metadata": {},
     "output_type": "execute_result"
    }
   ],
   "source": [
    "token_manager.retrieve(name=name)"
   ]
  },
  {
   "cell_type": "markdown",
   "metadata": {},
   "source": [
    "## Listing Tokens\n",
    "\n",
    "You can get a list of all the tokens available."
   ]
  },
  {
   "cell_type": "code",
   "execution_count": 6,
   "metadata": {
    "execution": {
     "iopub.execute_input": "2020-12-19T21:40:46.439005Z",
     "iopub.status.busy": "2020-12-19T21:40:46.438484Z",
     "iopub.status.idle": "2020-12-19T21:40:46.441030Z",
     "shell.execute_reply": "2020-12-19T21:40:46.441431Z"
    }
   },
   "outputs": [
    {
     "data": {
      "text/plain": [
       "['token-name']"
      ]
     },
     "execution_count": 1,
     "metadata": {},
     "output_type": "execute_result"
    }
   ],
   "source": [
    "token_manager.names()"
   ]
  },
  {
   "cell_type": "code",
   "execution_count": 7,
   "metadata": {
    "execution": {
     "iopub.execute_input": "2020-12-19T21:40:46.445746Z",
     "iopub.status.busy": "2020-12-19T21:40:46.444613Z",
     "iopub.status.idle": "2020-12-19T21:40:46.448096Z",
     "shell.execute_reply": "2020-12-19T21:40:46.448549Z"
    }
   },
   "outputs": [
    {
     "data": {
      "text/plain": [
       "['token-name', 'another-token-name']"
      ]
     },
     "execution_count": 1,
     "metadata": {},
     "output_type": "execute_result"
    }
   ],
   "source": [
    "token_manager.store(name=\"another-token-name\",token=\"another-api-token\")\n",
    "token_manager.names()"
   ]
  },
  {
   "cell_type": "markdown",
   "metadata": {},
   "source": [
    "## Removing Tokens\n",
    "\n",
    "Tokens can be removed by name as well."
   ]
  },
  {
   "cell_type": "code",
   "execution_count": 8,
   "metadata": {
    "execution": {
     "iopub.execute_input": "2020-12-19T21:40:46.452756Z",
     "iopub.status.busy": "2020-12-19T21:40:46.451776Z",
     "iopub.status.idle": "2020-12-19T21:40:46.454950Z",
     "shell.execute_reply": "2020-12-19T21:40:46.455397Z"
    }
   },
   "outputs": [
    {
     "data": {
      "text/plain": [
       "['another-token-name']"
      ]
     },
     "execution_count": 1,
     "metadata": {},
     "output_type": "execute_result"
    }
   ],
   "source": [
    "token_manager.remove(name=name)\n",
    "\n",
    "token_manager.names()"
   ]
  },
  {
   "cell_type": "markdown",
   "metadata": {},
   "source": [
    "## Clearing all Tokens\n",
    "\n",
    "All tokens can be deleted with one call."
   ]
  },
  {
   "cell_type": "code",
   "execution_count": 9,
   "metadata": {
    "execution": {
     "iopub.execute_input": "2020-12-19T21:40:46.459397Z",
     "iopub.status.busy": "2020-12-19T21:40:46.458381Z",
     "iopub.status.idle": "2020-12-19T21:40:46.461496Z",
     "shell.execute_reply": "2020-12-19T21:40:46.461931Z"
    }
   },
   "outputs": [
    {
     "data": {
      "text/plain": [
       "[]"
      ]
     },
     "execution_count": 1,
     "metadata": {},
     "output_type": "execute_result"
    }
   ],
   "source": [
    "token_manager.clear()\n",
    "\n",
    "token_manager.names()"
   ]
  },
  {
   "cell_type": "code",
   "execution_count": 10,
   "metadata": {
    "execution": {
     "iopub.execute_input": "2020-12-19T21:40:46.465891Z",
     "iopub.status.busy": "2020-12-19T21:40:46.464803Z",
     "iopub.status.idle": "2020-12-19T21:40:46.466461Z",
     "shell.execute_reply": "2020-12-19T21:40:46.466861Z"
    }
   },
   "outputs": [],
   "source": [
    "token_manager.token_file.unlink()"
   ]
  }
 ],
 "metadata": {
  "kernelspec": {
   "display_name": "kanbanflow-venv",
   "language": "python",
   "name": "kanbanflow-venv"
  },
  "language_info": {
   "codemirror_mode": {
    "name": "ipython",
    "version": 3
   },
   "file_extension": ".py",
   "mimetype": "text/x-python",
   "name": "python",
   "nbconvert_exporter": "python",
   "pygments_lexer": "ipython3",
   "version": "3.8.6"
  }
 },
 "nbformat": 4,
 "nbformat_minor": 4
}
